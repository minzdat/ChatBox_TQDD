{
 "cells": [
  {
   "cell_type": "code",
   "execution_count": 18,
   "metadata": {},
   "outputs": [
    {
     "ename": "AttributeError",
     "evalue": "'list' object has no attribute 'to_csv'",
     "output_type": "error",
     "traceback": [
      "\u001b[1;31m---------------------------------------------------------------------------\u001b[0m",
      "\u001b[1;31mAttributeError\u001b[0m                            Traceback (most recent call last)",
      "\u001b[1;32md:\\datathon\\data\\a.ipynb Cell 1\u001b[0m line \u001b[0;36m2\n\u001b[0;32m     <a href='vscode-notebook-cell:/d%3A/datathon/data/a.ipynb#W2sZmlsZQ%3D%3D?line=18'>19</a>\u001b[0m     b\u001b[39m.\u001b[39mappend(link(i))\n\u001b[0;32m     <a href='vscode-notebook-cell:/d%3A/datathon/data/a.ipynb#W2sZmlsZQ%3D%3D?line=19'>20</a>\u001b[0m     \u001b[39m#print(type(i))\u001b[39;00m\n\u001b[1;32m---> <a href='vscode-notebook-cell:/d%3A/datathon/data/a.ipynb#W2sZmlsZQ%3D%3D?line=20'>21</a>\u001b[0m     b\u001b[39m.\u001b[39;49mto_csv(\u001b[39m'\u001b[39m\u001b[39mdata1.csv\u001b[39m\u001b[39m'\u001b[39m)\n\u001b[0;32m     <a href='vscode-notebook-cell:/d%3A/datathon/data/a.ipynb#W2sZmlsZQ%3D%3D?line=21'>22</a>\u001b[0m a \u001b[39m=\u001b[39m pd\u001b[39m.\u001b[39mconcat([df, df_sv], \n\u001b[0;32m     <a href='vscode-notebook-cell:/d%3A/datathon/data/a.ipynb#W2sZmlsZQ%3D%3D?line=22'>23</a>\u001b[0m           axis\u001b[39m=\u001b[39m\u001b[39m0\u001b[39m, \n\u001b[0;32m     <a href='vscode-notebook-cell:/d%3A/datathon/data/a.ipynb#W2sZmlsZQ%3D%3D?line=23'>24</a>\u001b[0m           join\u001b[39m=\u001b[39m\u001b[39m'\u001b[39m\u001b[39mouter\u001b[39m\u001b[39m'\u001b[39m)\n",
      "\u001b[1;31mAttributeError\u001b[0m: 'list' object has no attribute 'to_csv'"
     ]
    }
   ],
   "source": [
    "import pandas as pd\n",
    "import numpy as np\n",
    "b = []\n",
    "count = 0\n",
    "df = pd.read_csv('data.csv')\n",
    "#df_sv =  pd.DataFrame(data=[], columns=[\"images_url\"])\n",
    "def link(data):\n",
    "    a = []\n",
    "    count = 0\n",
    "    if type(data) != float:\n",
    "        for id, i in enumerate(data):\n",
    "            if i == '~' or i=='|':\n",
    "                count += 1\n",
    "            if count == 3 and i != '~' and i != '|':\n",
    "                a.append(i)\n",
    "        a=''.join(a)\n",
    "    return a\n",
    "for i in (df['images']):\n",
    "    b.append(link(i))\n",
    "    #print(type(i))\n",
    "    b.to_csv('data1.csv')"
   ]
  },
  {
   "cell_type": "code",
   "execution_count": 5,
   "metadata": {},
   "outputs": [
    {
     "ename": "TypeError",
     "evalue": "'float' object is not iterable",
     "output_type": "error",
     "traceback": [
      "\u001b[1;31m---------------------------------------------------------------------------\u001b[0m",
      "\u001b[1;31mTypeError\u001b[0m                                 Traceback (most recent call last)",
      "\u001b[1;32md:\\datathon\\data\\a.ipynb Cell 3\u001b[0m line \u001b[0;36m3\n\u001b[0;32m      <a href='vscode-notebook-cell:/d%3A/datathon/data/a.ipynb#W3sZmlsZQ%3D%3D?line=0'>1</a>\u001b[0m a \u001b[39m=\u001b[39m []\n\u001b[0;32m      <a href='vscode-notebook-cell:/d%3A/datathon/data/a.ipynb#W3sZmlsZQ%3D%3D?line=1'>2</a>\u001b[0m \u001b[39mfor\u001b[39;00m i \u001b[39min\u001b[39;00m (df[\u001b[39m'\u001b[39m\u001b[39mimages\u001b[39m\u001b[39m'\u001b[39m]):\n\u001b[1;32m----> <a href='vscode-notebook-cell:/d%3A/datathon/data/a.ipynb#W3sZmlsZQ%3D%3D?line=2'>3</a>\u001b[0m     a \u001b[39m=\u001b[39m get_data_url(i)\n\u001b[0;32m      <a href='vscode-notebook-cell:/d%3A/datathon/data/a.ipynb#W3sZmlsZQ%3D%3D?line=3'>4</a>\u001b[0m a\n",
      "\u001b[1;32md:\\datathon\\data\\a.ipynb Cell 3\u001b[0m line \u001b[0;36m4\n\u001b[0;32m      <a href='vscode-notebook-cell:/d%3A/datathon/data/a.ipynb#W3sZmlsZQ%3D%3D?line=1'>2</a>\u001b[0m count \u001b[39m=\u001b[39m \u001b[39m0\u001b[39m\n\u001b[0;32m      <a href='vscode-notebook-cell:/d%3A/datathon/data/a.ipynb#W3sZmlsZQ%3D%3D?line=2'>3</a>\u001b[0m a\u001b[39m=\u001b[39m []\n\u001b[1;32m----> <a href='vscode-notebook-cell:/d%3A/datathon/data/a.ipynb#W3sZmlsZQ%3D%3D?line=3'>4</a>\u001b[0m \u001b[39mfor\u001b[39;00m i,img \u001b[39min\u001b[39;00m \u001b[39menumerate\u001b[39;49m(url):\n\u001b[0;32m      <a href='vscode-notebook-cell:/d%3A/datathon/data/a.ipynb#W3sZmlsZQ%3D%3D?line=4'>5</a>\u001b[0m     \u001b[39mif\u001b[39;00m img \u001b[39m==\u001b[39m \u001b[39m'\u001b[39m\u001b[39m~\u001b[39m\u001b[39m'\u001b[39m \u001b[39mor\u001b[39;00m img \u001b[39m==\u001b[39m \u001b[39m'\u001b[39m\u001b[39m|\u001b[39m\u001b[39m'\u001b[39m:\n\u001b[0;32m      <a href='vscode-notebook-cell:/d%3A/datathon/data/a.ipynb#W3sZmlsZQ%3D%3D?line=5'>6</a>\u001b[0m         count \u001b[39m=\u001b[39m count \u001b[39m+\u001b[39m \u001b[39m1\u001b[39m\n",
      "\u001b[1;31mTypeError\u001b[0m: 'float' object is not iterable"
     ]
    }
   ],
   "source": [
    "import os\n",
    "import pprint\n",
    "import time\n",
    "import urllib.error\n",
    "import urllib.request\n",
    "def download_file(url, dst_path):\n",
    "    try:\n",
    "        with urllib.request.urlopen(url) as web_file:\n",
    "            data = web_file.read()\n",
    "            with open(dst_path, mode='wb') as local_file:\n",
    "                local_file.write(data)\n",
    "    except urllib.error.URLError as e:\n",
    "        print(e)\n",
    "for i, img in enumerate(b):\n",
    "    if img != '' and img != []:\n",
    "        # url = img\n",
    "        # dst_path = 'data/train/img{}.png'.format(i)\n",
    "        # download_file(url, dst_path)\n",
    "        l = df['description']\n",
    "        path_w = 'data/text/des{}.txt'.format(i)\n",
    "        with open(path_w, mode='w') as f:\n",
    "            f.write(l[i])"
   ]
  }
 ],
 "metadata": {
  "kernelspec": {
   "display_name": "Python 3",
   "language": "python",
   "name": "python3"
  },
  "language_info": {
   "codemirror_mode": {
    "name": "ipython",
    "version": 3
   },
   "file_extension": ".py",
   "mimetype": "text/x-python",
   "name": "python",
   "nbconvert_exporter": "python",
   "pygments_lexer": "ipython3",
   "version": "3.10.11"
  }
 },
 "nbformat": 4,
 "nbformat_minor": 2
}
